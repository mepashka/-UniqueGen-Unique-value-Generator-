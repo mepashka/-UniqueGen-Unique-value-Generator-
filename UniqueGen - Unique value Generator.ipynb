{
 "cells": [
  {
   "cell_type": "code",
   "execution_count": 1,
   "id": "cf8b74b7",
   "metadata": {},
   "outputs": [],
   "source": [
    "import random"
   ]
  },
  {
   "cell_type": "code",
   "execution_count": 2,
   "id": "679cc343",
   "metadata": {},
   "outputs": [],
   "source": [
    "def unique_program():\n",
    "    # Создаем уникальные случайные числа\n",
    "    unique_numbers = set()\n",
    "    while len(unique_numbers) < 10:\n",
    "        unique_numbers.add(random.randint(1, 100))\n",
    "\n",
    "    # Выводим уникальные числа\n",
    "    print(\"Уникальные числа:\")\n",
    "    for num in unique_numbers:\n",
    "        print(num)\n",
    "\n",
    "    # Генерируем уникальную строку\n",
    "    unique_string = ''.join(random.choice('abcdefghijklmnopqrstuvwxyz') for _ in range(20))\n",
    "\n",
    "    # Выводим уникальную строку\n",
    "    print(\"Уникальная строка:\", unique_string)\n",
    "\n",
    "    # Создаем уникальный список из случайных чисел\n",
    "    unique_list = [random.randint(1, 100) for _ in range(10)]\n",
    "\n",
    "    # Выводим уникальный список\n",
    "    print(\"Уникальный список:\", unique_list)\n",
    "\n",
    "    # Создаем уникальный словарь из случайных пар \"ключ: значение\"\n",
    "    unique_dict = {f\"key_{i}\": random.randint(1, 100) for i in range(5)}\n",
    "\n",
    "    # Выводим уникальный словарь\n",
    "    print(\"Уникальный словарь:\", unique_dict)"
   ]
  },
  {
   "cell_type": "code",
   "execution_count": 3,
   "id": "03b37672",
   "metadata": {},
   "outputs": [
    {
     "name": "stdout",
     "output_type": "stream",
     "text": [
      "Уникальные числа:\n",
      "8\n",
      "75\n",
      "77\n",
      "47\n",
      "17\n",
      "83\n",
      "21\n",
      "56\n",
      "89\n",
      "91\n",
      "Уникальная строка: efilupsvcyohxthexinh\n",
      "Уникальный список: [29, 28, 55, 4, 56, 95, 49, 41, 96, 71]\n",
      "Уникальный словарь: {'key_0': 40, 'key_1': 87, 'key_2': 30, 'key_3': 6, 'key_4': 79}\n"
     ]
    }
   ],
   "source": [
    "if __name__ == \"__main__\":\n",
    "    unique_program()"
   ]
  },
  {
   "cell_type": "code",
   "execution_count": null,
   "id": "23e90b68",
   "metadata": {},
   "outputs": [],
   "source": []
  }
 ],
 "metadata": {
  "kernelspec": {
   "display_name": "Python 3 (ipykernel)",
   "language": "python",
   "name": "python3"
  },
  "language_info": {
   "codemirror_mode": {
    "name": "ipython",
    "version": 3
   },
   "file_extension": ".py",
   "mimetype": "text/x-python",
   "name": "python",
   "nbconvert_exporter": "python",
   "pygments_lexer": "ipython3",
   "version": "3.9.13"
  },
  "toc": {
   "base_numbering": 1,
   "nav_menu": {},
   "number_sections": true,
   "sideBar": true,
   "skip_h1_title": true,
   "title_cell": "Table of Contents",
   "title_sidebar": "Contents",
   "toc_cell": true,
   "toc_position": {},
   "toc_section_display": true,
   "toc_window_display": false
  }
 },
 "nbformat": 4,
 "nbformat_minor": 5
}
